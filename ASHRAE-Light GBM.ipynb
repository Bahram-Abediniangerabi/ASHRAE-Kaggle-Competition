{
  "nbformat": 4,
  "nbformat_minor": 0,
  "metadata": {
    "colab": {
      "name": "ASHRAE2.ipynb",
      "provenance": [],
      "collapsed_sections": [],
      "machine_shape": "hm"
    },
    "kernelspec": {
      "name": "python3",
      "display_name": "Python 3"
    }
  },
  "cells": [
    {
      "cell_type": "code",
      "metadata": {
        "id": "rQdUHZJW_ogL",
        "colab_type": "code",
        "colab": {}
      },
      "source": [
        "# Required libraries\n",
        "import numpy as np\n",
        "import pandas as pd\n",
        "import matplotlib\n",
        "import matplotlib.pyplot as plt\n",
        "import seaborn as sns\n",
        "import warnings\n",
        "import gc\n",
        "import lightgbm as lgb\n",
        "warnings.simplefilter('ignore')\n",
        "matplotlib.rcParams['figure.dpi'] = 100\n",
        "sns.set()\n",
        "%matplotlib inline"
      ],
      "execution_count": 0,
      "outputs": []
    },
    {
      "cell_type": "code",
      "metadata": {
        "id": "cUKUtYppTQd4",
        "colab_type": "code",
        "outputId": "276759bd-6f02-4b54-c683-0b78d1a99230",
        "colab": {
          "base_uri": "https://localhost:8080/",
          "height": 121
        }
      },
      "source": [
        "#Start by connecting gdrive into the google colab\n",
        "from google.colab import drive\n",
        "drive.mount('/content/gdrive')"
      ],
      "execution_count": 2,
      "outputs": [
        {
          "output_type": "stream",
          "text": [
            "Go to this URL in a browser: https://accounts.google.com/o/oauth2/auth?client_id=947318989803-6bn6qk8qdgf4n4g3pfee6491hc0brc4i.apps.googleusercontent.com&redirect_uri=urn%3aietf%3awg%3aoauth%3a2.0%3aoob&response_type=code&scope=email%20https%3a%2f%2fwww.googleapis.com%2fauth%2fdocs.test%20https%3a%2f%2fwww.googleapis.com%2fauth%2fdrive%20https%3a%2f%2fwww.googleapis.com%2fauth%2fdrive.photos.readonly%20https%3a%2f%2fwww.googleapis.com%2fauth%2fpeopleapi.readonly\n",
            "\n",
            "Enter your authorization code:\n",
            "··········\n",
            "Mounted at /content/gdrive\n"
          ],
          "name": "stdout"
        }
      ]
    },
    {
      "cell_type": "code",
      "metadata": {
        "id": "t4xCluV__uTT",
        "colab_type": "code",
        "colab": {}
      },
      "source": [
        "#Loading data\n",
        "building = pd.read_csv('gdrive/My Drive/ASHRAE/building_metadata.csv')\n",
        "weather_train = pd.read_csv('gdrive/My Drive/ASHRAE/weather_train.csv')\n",
        "weather_test = pd.read_csv('gdrive/My Drive/ASHRAE/weather_test.csv')\n",
        "train = pd.read_csv('gdrive/My Drive/ASHRAE/train.csv')\n",
        "test = pd.read_csv('gdrive/My Drive/ASHRAE/test.csv')"
      ],
      "execution_count": 0,
      "outputs": []
    },
    {
      "cell_type": "code",
      "metadata": {
        "id": "RX59SZHz_1HX",
        "colab_type": "code",
        "colab": {}
      },
      "source": [
        "#Merging everything into two datasets: train and test\n",
        "train = train.merge(building, on='building_id', how='left')\n",
        "test = test.merge(building, on='building_id', how='left')\n",
        "train = train.merge(weather_train, on=['site_id', 'timestamp'], how='left')\n",
        "test = test.merge(weather_test, on=['site_id', 'timestamp'], how='left')\n",
        "gc.collect();"
      ],
      "execution_count": 0,
      "outputs": []
    },
    {
      "cell_type": "code",
      "metadata": {
        "id": "5_JsYyYOSn7l",
        "colab_type": "code",
        "colab": {}
      },
      "source": [
        "train[\"timestamp\"] = pd.to_datetime(train[\"timestamp\"])\n",
        "train[\"hour\"] = train[\"timestamp\"].dt.hour\n",
        "train[\"day\"] = train[\"timestamp\"].dt.day\n",
        "train[\"weekend\"] = train[\"timestamp\"].dt.weekday\n",
        "train[\"month\"] = train[\"timestamp\"].dt.month"
      ],
      "execution_count": 0,
      "outputs": []
    },
    {
      "cell_type": "code",
      "metadata": {
        "id": "d4EY9ptiWJKU",
        "colab_type": "code",
        "colab": {}
      },
      "source": [
        "test[\"timestamp\"] = pd.to_datetime(test[\"timestamp\"])\n",
        "test[\"hour\"] = test[\"timestamp\"].dt.hour\n",
        "test[\"day\"] = test[\"timestamp\"].dt.day\n",
        "test[\"weekend\"] = test[\"timestamp\"].dt.weekday\n",
        "test[\"month\"] = test[\"timestamp\"].dt.month"
      ],
      "execution_count": 0,
      "outputs": []
    },
    {
      "cell_type": "code",
      "metadata": {
        "id": "eVt6dg8tXI7Q",
        "colab_type": "code",
        "colab": {}
      },
      "source": [
        "train = train.drop(\"timestamp\", axis = 1)\n",
        "test = test.drop(\"timestamp\", axis = 1)"
      ],
      "execution_count": 0,
      "outputs": []
    },
    {
      "cell_type": "code",
      "metadata": {
        "id": "XxWgmpY9XDQv",
        "colab_type": "code",
        "colab": {}
      },
      "source": [
        "from sklearn.preprocessing import LabelEncoder\n",
        "le = LabelEncoder()\n",
        "train[\"primary_use\"] = le.fit_transform(train[\"primary_use\"])"
      ],
      "execution_count": 0,
      "outputs": []
    },
    {
      "cell_type": "code",
      "metadata": {
        "id": "7qdmSlep_6Om",
        "colab_type": "code",
        "outputId": "9dd7ee65-58f9-4faa-e398-e26e9876bd52",
        "colab": {
          "base_uri": "https://localhost:8080/",
          "height": 422
        }
      },
      "source": [
        "categoricals = [\"building_id\", \"primary_use\", \"hour\", \"day\", \"weekend\", \"month\", \"meter\"]\n",
        "numericals = [\"square_feet\", \"year_built\", \"air_temperature\", \"cloud_coverage\",\"dew_temperature\"]\n",
        "feat_cols = categoricals + numericals\n",
        "train[categoricals + numericals]"
      ],
      "execution_count": 11,
      "outputs": [
        {
          "output_type": "execute_result",
          "data": {
            "text/html": [
              "<div>\n",
              "<style scoped>\n",
              "    .dataframe tbody tr th:only-of-type {\n",
              "        vertical-align: middle;\n",
              "    }\n",
              "\n",
              "    .dataframe tbody tr th {\n",
              "        vertical-align: top;\n",
              "    }\n",
              "\n",
              "    .dataframe thead th {\n",
              "        text-align: right;\n",
              "    }\n",
              "</style>\n",
              "<table border=\"1\" class=\"dataframe\">\n",
              "  <thead>\n",
              "    <tr style=\"text-align: right;\">\n",
              "      <th></th>\n",
              "      <th>building_id</th>\n",
              "      <th>primary_use</th>\n",
              "      <th>hour</th>\n",
              "      <th>day</th>\n",
              "      <th>weekend</th>\n",
              "      <th>month</th>\n",
              "      <th>meter</th>\n",
              "      <th>square_feet</th>\n",
              "      <th>year_built</th>\n",
              "      <th>air_temperature</th>\n",
              "      <th>cloud_coverage</th>\n",
              "      <th>dew_temperature</th>\n",
              "    </tr>\n",
              "  </thead>\n",
              "  <tbody>\n",
              "    <tr>\n",
              "      <th>0</th>\n",
              "      <td>0</td>\n",
              "      <td>0</td>\n",
              "      <td>0</td>\n",
              "      <td>1</td>\n",
              "      <td>4</td>\n",
              "      <td>1</td>\n",
              "      <td>0</td>\n",
              "      <td>7432</td>\n",
              "      <td>2008.0</td>\n",
              "      <td>25.0</td>\n",
              "      <td>6.0</td>\n",
              "      <td>20.0</td>\n",
              "    </tr>\n",
              "    <tr>\n",
              "      <th>1</th>\n",
              "      <td>1</td>\n",
              "      <td>0</td>\n",
              "      <td>0</td>\n",
              "      <td>1</td>\n",
              "      <td>4</td>\n",
              "      <td>1</td>\n",
              "      <td>0</td>\n",
              "      <td>2720</td>\n",
              "      <td>2004.0</td>\n",
              "      <td>25.0</td>\n",
              "      <td>6.0</td>\n",
              "      <td>20.0</td>\n",
              "    </tr>\n",
              "    <tr>\n",
              "      <th>2</th>\n",
              "      <td>2</td>\n",
              "      <td>0</td>\n",
              "      <td>0</td>\n",
              "      <td>1</td>\n",
              "      <td>4</td>\n",
              "      <td>1</td>\n",
              "      <td>0</td>\n",
              "      <td>5376</td>\n",
              "      <td>1991.0</td>\n",
              "      <td>25.0</td>\n",
              "      <td>6.0</td>\n",
              "      <td>20.0</td>\n",
              "    </tr>\n",
              "    <tr>\n",
              "      <th>3</th>\n",
              "      <td>3</td>\n",
              "      <td>0</td>\n",
              "      <td>0</td>\n",
              "      <td>1</td>\n",
              "      <td>4</td>\n",
              "      <td>1</td>\n",
              "      <td>0</td>\n",
              "      <td>23685</td>\n",
              "      <td>2002.0</td>\n",
              "      <td>25.0</td>\n",
              "      <td>6.0</td>\n",
              "      <td>20.0</td>\n",
              "    </tr>\n",
              "    <tr>\n",
              "      <th>4</th>\n",
              "      <td>4</td>\n",
              "      <td>0</td>\n",
              "      <td>0</td>\n",
              "      <td>1</td>\n",
              "      <td>4</td>\n",
              "      <td>1</td>\n",
              "      <td>0</td>\n",
              "      <td>116607</td>\n",
              "      <td>1975.0</td>\n",
              "      <td>25.0</td>\n",
              "      <td>6.0</td>\n",
              "      <td>20.0</td>\n",
              "    </tr>\n",
              "    <tr>\n",
              "      <th>...</th>\n",
              "      <td>...</td>\n",
              "      <td>...</td>\n",
              "      <td>...</td>\n",
              "      <td>...</td>\n",
              "      <td>...</td>\n",
              "      <td>...</td>\n",
              "      <td>...</td>\n",
              "      <td>...</td>\n",
              "      <td>...</td>\n",
              "      <td>...</td>\n",
              "      <td>...</td>\n",
              "      <td>...</td>\n",
              "    </tr>\n",
              "    <tr>\n",
              "      <th>20216095</th>\n",
              "      <td>1444</td>\n",
              "      <td>1</td>\n",
              "      <td>23</td>\n",
              "      <td>31</td>\n",
              "      <td>5</td>\n",
              "      <td>12</td>\n",
              "      <td>0</td>\n",
              "      <td>19619</td>\n",
              "      <td>1914.0</td>\n",
              "      <td>1.7</td>\n",
              "      <td>NaN</td>\n",
              "      <td>-5.6</td>\n",
              "    </tr>\n",
              "    <tr>\n",
              "      <th>20216096</th>\n",
              "      <td>1445</td>\n",
              "      <td>0</td>\n",
              "      <td>23</td>\n",
              "      <td>31</td>\n",
              "      <td>5</td>\n",
              "      <td>12</td>\n",
              "      <td>0</td>\n",
              "      <td>4298</td>\n",
              "      <td>NaN</td>\n",
              "      <td>1.7</td>\n",
              "      <td>NaN</td>\n",
              "      <td>-5.6</td>\n",
              "    </tr>\n",
              "    <tr>\n",
              "      <th>20216097</th>\n",
              "      <td>1446</td>\n",
              "      <td>1</td>\n",
              "      <td>23</td>\n",
              "      <td>31</td>\n",
              "      <td>5</td>\n",
              "      <td>12</td>\n",
              "      <td>0</td>\n",
              "      <td>11265</td>\n",
              "      <td>1997.0</td>\n",
              "      <td>1.7</td>\n",
              "      <td>NaN</td>\n",
              "      <td>-5.6</td>\n",
              "    </tr>\n",
              "    <tr>\n",
              "      <th>20216098</th>\n",
              "      <td>1447</td>\n",
              "      <td>4</td>\n",
              "      <td>23</td>\n",
              "      <td>31</td>\n",
              "      <td>5</td>\n",
              "      <td>12</td>\n",
              "      <td>0</td>\n",
              "      <td>29775</td>\n",
              "      <td>2001.0</td>\n",
              "      <td>1.7</td>\n",
              "      <td>NaN</td>\n",
              "      <td>-5.6</td>\n",
              "    </tr>\n",
              "    <tr>\n",
              "      <th>20216099</th>\n",
              "      <td>1448</td>\n",
              "      <td>6</td>\n",
              "      <td>23</td>\n",
              "      <td>31</td>\n",
              "      <td>5</td>\n",
              "      <td>12</td>\n",
              "      <td>0</td>\n",
              "      <td>92271</td>\n",
              "      <td>2001.0</td>\n",
              "      <td>1.7</td>\n",
              "      <td>NaN</td>\n",
              "      <td>-5.6</td>\n",
              "    </tr>\n",
              "  </tbody>\n",
              "</table>\n",
              "<p>20216100 rows × 12 columns</p>\n",
              "</div>"
            ],
            "text/plain": [
              "          building_id  primary_use  ...  cloud_coverage  dew_temperature\n",
              "0                   0            0  ...             6.0             20.0\n",
              "1                   1            0  ...             6.0             20.0\n",
              "2                   2            0  ...             6.0             20.0\n",
              "3                   3            0  ...             6.0             20.0\n",
              "4                   4            0  ...             6.0             20.0\n",
              "...               ...          ...  ...             ...              ...\n",
              "20216095         1444            1  ...             NaN             -5.6\n",
              "20216096         1445            0  ...             NaN             -5.6\n",
              "20216097         1446            1  ...             NaN             -5.6\n",
              "20216098         1447            4  ...             NaN             -5.6\n",
              "20216099         1448            6  ...             NaN             -5.6\n",
              "\n",
              "[20216100 rows x 12 columns]"
            ]
          },
          "metadata": {
            "tags": []
          },
          "execution_count": 11
        }
      ]
    },
    {
      "cell_type": "code",
      "metadata": {
        "id": "iL509_C7Ypfg",
        "colab_type": "code",
        "colab": {}
      },
      "source": [
        "target = np.log1p(train[\"meter_reading\"])"
      ],
      "execution_count": 0,
      "outputs": []
    },
    {
      "cell_type": "code",
      "metadata": {
        "id": "0HseUL_XZg6L",
        "colab_type": "code",
        "colab": {}
      },
      "source": [
        "del train[\"meter_reading\"]"
      ],
      "execution_count": 0,
      "outputs": []
    },
    {
      "cell_type": "code",
      "metadata": {
        "id": "segjMVkCZmVZ",
        "colab_type": "code",
        "colab": {}
      },
      "source": [
        "train = train.drop([\"site_id\",\"floor_count\"], axis = 1)"
      ],
      "execution_count": 0,
      "outputs": []
    },
    {
      "cell_type": "code",
      "metadata": {
        "id": "qe-Pwn5AZrMN",
        "colab_type": "code",
        "colab": {}
      },
      "source": [
        "#Based on this great kernel https://www.kaggle.com/arjanso/reducing-dataframe-memory-size-by-65\n",
        "def reduce_mem_usage(df):\n",
        "    start_mem_usg = df.memory_usage().sum() / 1024**2 \n",
        "    print(\"Memory usage of properties dataframe is :\",start_mem_usg,\" MB\")\n",
        "    NAlist = [] # Keeps track of columns that have missing values filled in. \n",
        "    for col in df.columns:\n",
        "        if df[col].dtype != object:  # Exclude strings            \n",
        "            # Print current column type\n",
        "            print(\"******************************\")\n",
        "            print(\"Column: \",col)\n",
        "            print(\"dtype before: \",df[col].dtype)            \n",
        "            # make variables for Int, max and min\n",
        "            IsInt = False\n",
        "            mx = df[col].max()\n",
        "            mn = df[col].min()\n",
        "            print(\"min for this col: \",mn)\n",
        "            print(\"max for this col: \",mx)\n",
        "            # Integer does not support NA, therefore, NA needs to be filled\n",
        "            if not np.isfinite(df[col]).all(): \n",
        "                NAlist.append(col)\n",
        "                df[col].fillna(mn-1,inplace=True)  \n",
        "                   \n",
        "            # test if column can be converted to an integer\n",
        "            asint = df[col].fillna(0).astype(np.int64)\n",
        "            result = (df[col] - asint)\n",
        "            result = result.sum()\n",
        "            if result > -0.01 and result < 0.01:\n",
        "                IsInt = True            \n",
        "            # Make Integer/unsigned Integer datatypes\n",
        "            if IsInt:\n",
        "                if mn >= 0:\n",
        "                    if mx < 255:\n",
        "                        df[col] = df[col].astype(np.uint8)\n",
        "                    elif mx < 65535:\n",
        "                        df[col] = df[col].astype(np.uint16)\n",
        "                    elif mx < 4294967295:\n",
        "                        df[col] = df[col].astype(np.uint32)\n",
        "                    else:\n",
        "                        df[col] = df[col].astype(np.uint64)\n",
        "                else:\n",
        "                    if mn > np.iinfo(np.int8).min and mx < np.iinfo(np.int8).max:\n",
        "                        df[col] = df[col].astype(np.int8)\n",
        "                    elif mn > np.iinfo(np.int16).min and mx < np.iinfo(np.int16).max:\n",
        "                        df[col] = df[col].astype(np.int16)\n",
        "                    elif mn > np.iinfo(np.int32).min and mx < np.iinfo(np.int32).max:\n",
        "                        df[col] = df[col].astype(np.int32)\n",
        "                    elif mn > np.iinfo(np.int64).min and mx < np.iinfo(np.int64).max:\n",
        "                        df[col] = df[col].astype(np.int64)    \n",
        "            # Make float datatypes 32 bit\n",
        "            else:\n",
        "                df[col] = df[col].astype(np.float32)\n",
        "            \n",
        "            # Print new column type\n",
        "            print(\"dtype after: \",df[col].dtype)\n",
        "            print(\"******************************\")\n",
        "    # Print final result\n",
        "    print(\"___MEMORY USAGE AFTER COMPLETION:___\")\n",
        "    mem_usg = df.memory_usage().sum() / 1024**2 \n",
        "    print(\"Memory usage is: \",mem_usg,\" MB\")\n",
        "    print(\"This is \",100*mem_usg/start_mem_usg,\"% of the initial size\")\n",
        "    return df, NAlist"
      ],
      "execution_count": 0,
      "outputs": []
    },
    {
      "cell_type": "code",
      "metadata": {
        "id": "UuU8r-U2Z66p",
        "colab_type": "code",
        "outputId": "09724d3b-a101-4917-b43c-717fb1d9f2cb",
        "colab": {
          "base_uri": "https://localhost:8080/",
          "height": 1000
        }
      },
      "source": [
        "train, NAlist = reduce_mem_usage(train)"
      ],
      "execution_count": 19,
      "outputs": [
        {
          "output_type": "stream",
          "text": [
            "Memory usage of properties dataframe is : 2622.022247314453  MB\n",
            "******************************\n",
            "Column:  building_id\n",
            "dtype before:  int64\n",
            "min for this col:  0\n",
            "max for this col:  1448\n",
            "dtype after:  uint16\n",
            "******************************\n",
            "******************************\n",
            "Column:  meter\n",
            "dtype before:  int64\n",
            "min for this col:  0\n",
            "max for this col:  3\n",
            "dtype after:  uint8\n",
            "******************************\n",
            "******************************\n",
            "Column:  primary_use\n",
            "dtype before:  int64\n",
            "min for this col:  0\n",
            "max for this col:  15\n",
            "dtype after:  uint8\n",
            "******************************\n",
            "******************************\n",
            "Column:  square_feet\n",
            "dtype before:  int64\n",
            "min for this col:  283\n",
            "max for this col:  875000\n",
            "dtype after:  uint32\n",
            "******************************\n",
            "******************************\n",
            "Column:  year_built\n",
            "dtype before:  float64\n",
            "min for this col:  1900.0\n",
            "max for this col:  2017.0\n",
            "dtype after:  uint16\n",
            "******************************\n",
            "******************************\n",
            "Column:  air_temperature\n",
            "dtype before:  float64\n",
            "min for this col:  -28.9\n",
            "max for this col:  47.2\n",
            "dtype after:  float32\n",
            "******************************\n",
            "******************************\n",
            "Column:  cloud_coverage\n",
            "dtype before:  float64\n",
            "min for this col:  0.0\n",
            "max for this col:  9.0\n",
            "dtype after:  uint8\n",
            "******************************\n",
            "******************************\n",
            "Column:  dew_temperature\n",
            "dtype before:  float64\n",
            "min for this col:  -35.0\n",
            "max for this col:  26.1\n",
            "dtype after:  float32\n",
            "******************************\n",
            "******************************\n",
            "Column:  precip_depth_1_hr\n",
            "dtype before:  float64\n",
            "min for this col:  -1.0\n",
            "max for this col:  343.0\n",
            "dtype after:  int16\n",
            "******************************\n",
            "******************************\n",
            "Column:  sea_level_pressure\n",
            "dtype before:  float64\n",
            "min for this col:  968.2\n",
            "max for this col:  1045.5\n",
            "dtype after:  float32\n",
            "******************************\n",
            "******************************\n",
            "Column:  wind_direction\n",
            "dtype before:  float64\n",
            "min for this col:  0.0\n",
            "max for this col:  360.0\n",
            "dtype after:  uint16\n",
            "******************************\n",
            "******************************\n",
            "Column:  wind_speed\n",
            "dtype before:  float64\n",
            "min for this col:  0.0\n",
            "max for this col:  19.0\n",
            "dtype after:  float32\n",
            "******************************\n",
            "******************************\n",
            "Column:  hour\n",
            "dtype before:  int64\n",
            "min for this col:  0\n",
            "max for this col:  23\n",
            "dtype after:  uint8\n",
            "******************************\n",
            "******************************\n",
            "Column:  day\n",
            "dtype before:  int64\n",
            "min for this col:  1\n",
            "max for this col:  31\n",
            "dtype after:  uint8\n",
            "******************************\n",
            "******************************\n",
            "Column:  weekend\n",
            "dtype before:  int64\n",
            "min for this col:  0\n",
            "max for this col:  6\n",
            "dtype after:  uint8\n",
            "******************************\n",
            "******************************\n",
            "Column:  month\n",
            "dtype before:  int64\n",
            "min for this col:  1\n",
            "max for this col:  12\n",
            "dtype after:  uint8\n",
            "******************************\n",
            "___MEMORY USAGE AFTER COMPLETION:___\n",
            "Memory usage is:  829.0217399597168  MB\n",
            "This is  31.61764705882353 % of the initial size\n"
          ],
          "name": "stdout"
        }
      ]
    },
    {
      "cell_type": "code",
      "metadata": {
        "id": "ySfDOMaYaDzn",
        "colab_type": "code",
        "outputId": "9f64f134-7c0b-42e6-d9cd-c20fc9ad1723",
        "colab": {
          "base_uri": "https://localhost:8080/",
          "height": 454
        }
      },
      "source": [
        "from sklearn.model_selection import KFold\n",
        "from sklearn.metrics import mean_squared_error\n",
        "import lightgbm as lgb\n",
        "num_folds = 5\n",
        "kf = KFold(n_splits = num_folds, shuffle = False, random_state = 30)\n",
        "error = 0\n",
        "models = []\n",
        "for i, (train_index, val_index) in enumerate(kf.split(train)):\n",
        "    if i + 1 < num_folds:\n",
        "        continue\n",
        "    print(train_index.max(), val_index.min())\n",
        "    train_X = train[feat_cols].iloc[train_index]\n",
        "    val_X = train[feat_cols].iloc[val_index]\n",
        "    train_y = target.iloc[train_index]\n",
        "    val_y = target.iloc[val_index]\n",
        "    lgb_train = lgb.Dataset(train_X, train_y > 0)\n",
        "    lgb_eval = lgb.Dataset(val_X, val_y > 0)\n",
        "    params = {\n",
        "            'boosting_type': 'gbdt',\n",
        "            'objective': 'binary',\n",
        "            'metric': {'binary_logloss'},\n",
        "            'learning_rate': 0.05,\n",
        "            'feature_fraction': 0.75,\n",
        "            'bagging_fraction': 0.75,\n",
        "            'bagging_freq' : 5\n",
        "            }\n",
        "    gbm_class = lgb.train(params,\n",
        "                lgb_train,\n",
        "                num_boost_round=2000,\n",
        "                valid_sets=(lgb_train, lgb_eval),\n",
        "               early_stopping_rounds=20,\n",
        "               verbose_eval = 20)\n",
        "    \n",
        "    lgb_train = lgb.Dataset(train_X[train_y > 0], train_y[train_y > 0])\n",
        "    lgb_eval = lgb.Dataset(val_X[val_y > 0] , val_y[val_y > 0])\n",
        "    params = {\n",
        "            'boosting_type': 'gbdt',\n",
        "            'objective': 'regression',\n",
        "            'metric': {'rmse'},\n",
        "            'learning_rate': 0.5,\n",
        "            'feature_fraction': 0.75,\n",
        "            'bagging_fraction': 0.75,\n",
        "            'bagging_freq' : 5\n",
        "            }\n",
        "    gbm_regress = lgb.train(params,\n",
        "                lgb_train,\n",
        "                num_boost_round=2000,\n",
        "                valid_sets=(lgb_train, lgb_eval),\n",
        "               early_stopping_rounds=20,\n",
        "               verbose_eval = 20)\n",
        "#     models.append(gbm)\n",
        "\n",
        "    y_pred = (gbm_class.predict(val_X, num_iteration=gbm_class.best_iteration) > .5) *\\\n",
        "    (gbm_regress.predict(val_X, num_iteration=gbm_regress.best_iteration))\n",
        "    error += np.sqrt(mean_squared_error(y_pred, (val_y)))/num_folds\n",
        "    print(np.sqrt(mean_squared_error(y_pred, (val_y))))\n",
        "    break\n",
        "print(error)"
      ],
      "execution_count": 20,
      "outputs": [
        {
          "output_type": "stream",
          "text": [
            "16172879 16172880\n",
            "Training until validation scores don't improve for 20 rounds.\n",
            "[20]\ttraining's binary_logloss: 0.213314\tvalid_1's binary_logloss: 0.199683\n",
            "[40]\ttraining's binary_logloss: 0.184489\tvalid_1's binary_logloss: 0.185121\n",
            "[60]\ttraining's binary_logloss: 0.168305\tvalid_1's binary_logloss: 0.180326\n",
            "[80]\ttraining's binary_logloss: 0.159696\tvalid_1's binary_logloss: 0.176637\n",
            "[100]\ttraining's binary_logloss: 0.153271\tvalid_1's binary_logloss: 0.176291\n",
            "Early stopping, best iteration is:\n",
            "[87]\ttraining's binary_logloss: 0.157185\tvalid_1's binary_logloss: 0.174815\n",
            "Training until validation scores don't improve for 20 rounds.\n",
            "[20]\ttraining's rmse: 0.857922\tvalid_1's rmse: 0.918223\n",
            "[40]\ttraining's rmse: 0.767992\tvalid_1's rmse: 0.839355\n",
            "[60]\ttraining's rmse: 0.697506\tvalid_1's rmse: 0.789033\n",
            "[80]\ttraining's rmse: 0.663772\tvalid_1's rmse: 0.772046\n",
            "[100]\ttraining's rmse: 0.632654\tvalid_1's rmse: 0.755337\n",
            "[120]\ttraining's rmse: 0.611014\tvalid_1's rmse: 0.747567\n",
            "[140]\ttraining's rmse: 0.596475\tvalid_1's rmse: 0.741082\n",
            "[160]\ttraining's rmse: 0.574659\tvalid_1's rmse: 0.730553\n",
            "[180]\ttraining's rmse: 0.558373\tvalid_1's rmse: 0.720377\n",
            "[200]\ttraining's rmse: 0.545926\tvalid_1's rmse: 0.711502\n",
            "[220]\ttraining's rmse: 0.537946\tvalid_1's rmse: 0.71067\n",
            "[240]\ttraining's rmse: 0.529349\tvalid_1's rmse: 0.71221\n",
            "Early stopping, best iteration is:\n",
            "[229]\ttraining's rmse: 0.533472\tvalid_1's rmse: 0.707878\n",
            "1.298571091767326\n",
            "0.2597142183534652\n"
          ],
          "name": "stdout"
        }
      ]
    },
    {
      "cell_type": "code",
      "metadata": {
        "id": "SnOA1sjWahL1",
        "colab_type": "code",
        "outputId": "8bd40efc-7338-4c7e-ef0e-67f0291e30aa",
        "colab": {
          "base_uri": "https://localhost:8080/",
          "height": 218
        }
      },
      "source": [
        "sorted(zip(gbm_regress.feature_importance(), gbm_regress.feature_name()),reverse = True)"
      ],
      "execution_count": 21,
      "outputs": [
        {
          "output_type": "execute_result",
          "data": {
            "text/plain": [
              "[(1706, 'building_id'),\n",
              " (1567, 'square_feet'),\n",
              " (725, 'meter'),\n",
              " (662, 'year_built'),\n",
              " (610, 'primary_use'),\n",
              " (464, 'month'),\n",
              " (362, 'hour'),\n",
              " (349, 'air_temperature'),\n",
              " (214, 'dew_temperature'),\n",
              " (100, 'weekend'),\n",
              " (85, 'day'),\n",
              " (26, 'cloud_coverage')]"
            ]
          },
          "metadata": {
            "tags": []
          },
          "execution_count": 21
        }
      ]
    },
    {
      "cell_type": "code",
      "metadata": {
        "id": "LUWExl19e6XN",
        "colab_type": "code",
        "colab": {}
      },
      "source": [
        "import gc\n",
        "del train"
      ],
      "execution_count": 0,
      "outputs": []
    },
    {
      "cell_type": "code",
      "metadata": {
        "id": "3YOohnfje8D9",
        "colab_type": "code",
        "colab": {}
      },
      "source": [
        "del train_X, val_X, lgb_train, lgb_eval, train_y, val_y, y_pred, target"
      ],
      "execution_count": 0,
      "outputs": []
    },
    {
      "cell_type": "code",
      "metadata": {
        "id": "FwuRVK2Ye_KV",
        "colab_type": "code",
        "outputId": "805f2816-6869-4bca-8e84-0ef0544b1cf1",
        "colab": {
          "base_uri": "https://localhost:8080/",
          "height": 34
        }
      },
      "source": [
        "gc.collect()"
      ],
      "execution_count": 24,
      "outputs": [
        {
          "output_type": "execute_result",
          "data": {
            "text/plain": [
              "707"
            ]
          },
          "metadata": {
            "tags": []
          },
          "execution_count": 24
        }
      ]
    },
    {
      "cell_type": "code",
      "metadata": {
        "id": "tUMvbeL_gYKu",
        "colab_type": "code",
        "colab": {}
      },
      "source": [
        "#test load\n",
        "test[\"primary_use\"] = le.transform(test[\"primary_use\"])"
      ],
      "execution_count": 0,
      "outputs": []
    },
    {
      "cell_type": "code",
      "metadata": {
        "id": "0yH8cjhCgyA1",
        "colab_type": "code",
        "outputId": "19fffcb0-2f17-4f30-9414-6b6c3fe351e0",
        "colab": {
          "base_uri": "https://localhost:8080/",
          "height": 1000
        }
      },
      "source": [
        "test, NAlist = reduce_mem_usage(test)"
      ],
      "execution_count": 26,
      "outputs": [
        {
          "output_type": "stream",
          "text": [
            "Memory usage of properties dataframe is : 6362.548828125  MB\n",
            "******************************\n",
            "Column:  row_id\n",
            "dtype before:  int64\n",
            "min for this col:  0\n",
            "max for this col:  41697599\n",
            "dtype after:  uint32\n",
            "******************************\n",
            "******************************\n",
            "Column:  building_id\n",
            "dtype before:  int64\n",
            "min for this col:  0\n",
            "max for this col:  1448\n",
            "dtype after:  uint16\n",
            "******************************\n",
            "******************************\n",
            "Column:  meter\n",
            "dtype before:  int64\n",
            "min for this col:  0\n",
            "max for this col:  3\n",
            "dtype after:  uint8\n",
            "******************************\n",
            "******************************\n",
            "Column:  site_id\n",
            "dtype before:  int64\n",
            "min for this col:  0\n",
            "max for this col:  15\n",
            "dtype after:  uint8\n",
            "******************************\n",
            "******************************\n",
            "Column:  primary_use\n",
            "dtype before:  int64\n",
            "min for this col:  0\n",
            "max for this col:  15\n",
            "dtype after:  uint8\n",
            "******************************\n",
            "******************************\n",
            "Column:  square_feet\n",
            "dtype before:  int64\n",
            "min for this col:  283\n",
            "max for this col:  875000\n",
            "dtype after:  uint32\n",
            "******************************\n",
            "******************************\n",
            "Column:  year_built\n",
            "dtype before:  float64\n",
            "min for this col:  1900.0\n",
            "max for this col:  2017.0\n",
            "dtype after:  uint16\n",
            "******************************\n",
            "******************************\n",
            "Column:  floor_count\n",
            "dtype before:  float64\n",
            "min for this col:  1.0\n",
            "max for this col:  26.0\n",
            "dtype after:  uint8\n",
            "******************************\n",
            "******************************\n",
            "Column:  air_temperature\n",
            "dtype before:  float64\n",
            "min for this col:  -28.1\n",
            "max for this col:  48.3\n",
            "dtype after:  float32\n",
            "******************************\n",
            "******************************\n",
            "Column:  cloud_coverage\n",
            "dtype before:  float64\n",
            "min for this col:  0.0\n",
            "max for this col:  9.0\n",
            "dtype after:  uint8\n",
            "******************************\n",
            "******************************\n",
            "Column:  dew_temperature\n",
            "dtype before:  float64\n",
            "min for this col:  -31.6\n",
            "max for this col:  26.7\n",
            "dtype after:  float32\n",
            "******************************\n",
            "******************************\n",
            "Column:  precip_depth_1_hr\n",
            "dtype before:  float64\n",
            "min for this col:  -1.0\n",
            "max for this col:  597.0\n",
            "dtype after:  int16\n",
            "******************************\n",
            "******************************\n",
            "Column:  sea_level_pressure\n",
            "dtype before:  float64\n",
            "min for this col:  972.0\n",
            "max for this col:  1050.1\n",
            "dtype after:  float32\n",
            "******************************\n",
            "******************************\n",
            "Column:  wind_direction\n",
            "dtype before:  float64\n",
            "min for this col:  0.0\n",
            "max for this col:  360.0\n",
            "dtype after:  uint16\n",
            "******************************\n",
            "******************************\n",
            "Column:  wind_speed\n",
            "dtype before:  float64\n",
            "min for this col:  0.0\n",
            "max for this col:  24.2\n",
            "dtype after:  float32\n",
            "******************************\n",
            "******************************\n",
            "Column:  hour\n",
            "dtype before:  int64\n",
            "min for this col:  0\n",
            "max for this col:  23\n",
            "dtype after:  uint8\n",
            "******************************\n",
            "******************************\n",
            "Column:  day\n",
            "dtype before:  int64\n",
            "min for this col:  1\n",
            "max for this col:  31\n",
            "dtype after:  uint8\n",
            "******************************\n",
            "******************************\n",
            "Column:  weekend\n",
            "dtype before:  int64\n",
            "min for this col:  0\n",
            "max for this col:  6\n",
            "dtype after:  uint8\n",
            "******************************\n",
            "******************************\n",
            "Column:  month\n",
            "dtype before:  int64\n",
            "min for this col:  1\n",
            "max for this col:  12\n",
            "dtype after:  uint8\n",
            "******************************\n",
            "___MEMORY USAGE AFTER COMPLETION:___\n",
            "Memory usage is:  1948.5305786132812  MB\n",
            "This is  30.625 % of the initial size\n"
          ],
          "name": "stdout"
        }
      ]
    },
    {
      "cell_type": "code",
      "metadata": {
        "id": "yd6SsEEEg5is",
        "colab_type": "code",
        "outputId": "babda362-6b61-441f-d3cd-4e33979c6c06",
        "colab": {
          "base_uri": "https://localhost:8080/",
          "height": 34
        }
      },
      "source": [
        "gc.collect()"
      ],
      "execution_count": 27,
      "outputs": [
        {
          "output_type": "execute_result",
          "data": {
            "text/plain": [
              "0"
            ]
          },
          "metadata": {
            "tags": []
          },
          "execution_count": 27
        }
      ]
    },
    {
      "cell_type": "code",
      "metadata": {
        "id": "ozcf_1J-g_v9",
        "colab_type": "code",
        "colab": {}
      },
      "source": [
        "test = test[feat_cols]"
      ],
      "execution_count": 0,
      "outputs": []
    },
    {
      "cell_type": "code",
      "metadata": {
        "id": "Fl7fK5qohCr5",
        "colab_type": "code",
        "outputId": "f05fd837-2ff5-40ee-f971-fd7cdd543f52",
        "colab": {
          "base_uri": "https://localhost:8080/",
          "height": 34
        }
      },
      "source": [
        "from tqdm import tqdm\n",
        "i=0\n",
        "res=[]\n",
        "step_size = 50000\n",
        "for j in tqdm(range(int(np.ceil(test.shape[0]/50000)))):\n",
        "    \n",
        "    res.append(np.expm1((gbm_class.predict(test.iloc[i:i+step_size], num_iteration=gbm_class.best_iteration) > .5) *\\\n",
        "    (gbm_regress.predict(test.iloc[i:i+step_size], num_iteration=gbm_regress.best_iteration))))\n",
        "    i+=step_size"
      ],
      "execution_count": 29,
      "outputs": [
        {
          "output_type": "stream",
          "text": [
            "100%|██████████| 834/834 [03:06<00:00,  4.21it/s]\n"
          ],
          "name": "stderr"
        }
      ]
    },
    {
      "cell_type": "code",
      "metadata": {
        "id": "wncWlkGFhF9_",
        "colab_type": "code",
        "colab": {}
      },
      "source": [
        "del test"
      ],
      "execution_count": 0,
      "outputs": []
    },
    {
      "cell_type": "code",
      "metadata": {
        "id": "PpcbKx3ThHkR",
        "colab_type": "code",
        "colab": {}
      },
      "source": [
        "res = np.concatenate(res)"
      ],
      "execution_count": 0,
      "outputs": []
    },
    {
      "cell_type": "code",
      "metadata": {
        "id": "Tut_ZlgKhJhN",
        "colab_type": "code",
        "outputId": "9c9373f8-9c03-41c6-9b1c-b149e48f1e81",
        "colab": {
          "base_uri": "https://localhost:8080/",
          "height": 284
        }
      },
      "source": [
        "pd.DataFrame(res).describe()"
      ],
      "execution_count": 32,
      "outputs": [
        {
          "output_type": "execute_result",
          "data": {
            "text/html": [
              "<div>\n",
              "<style scoped>\n",
              "    .dataframe tbody tr th:only-of-type {\n",
              "        vertical-align: middle;\n",
              "    }\n",
              "\n",
              "    .dataframe tbody tr th {\n",
              "        vertical-align: top;\n",
              "    }\n",
              "\n",
              "    .dataframe thead th {\n",
              "        text-align: right;\n",
              "    }\n",
              "</style>\n",
              "<table border=\"1\" class=\"dataframe\">\n",
              "  <thead>\n",
              "    <tr style=\"text-align: right;\">\n",
              "      <th></th>\n",
              "      <th>0</th>\n",
              "    </tr>\n",
              "  </thead>\n",
              "  <tbody>\n",
              "    <tr>\n",
              "      <th>count</th>\n",
              "      <td>4.169760e+07</td>\n",
              "    </tr>\n",
              "    <tr>\n",
              "      <th>mean</th>\n",
              "      <td>7.355825e+02</td>\n",
              "    </tr>\n",
              "    <tr>\n",
              "      <th>std</th>\n",
              "      <td>3.344502e+04</td>\n",
              "    </tr>\n",
              "    <tr>\n",
              "      <th>min</th>\n",
              "      <td>-8.272226e-01</td>\n",
              "    </tr>\n",
              "    <tr>\n",
              "      <th>25%</th>\n",
              "      <td>2.565220e+01</td>\n",
              "    </tr>\n",
              "    <tr>\n",
              "      <th>50%</th>\n",
              "      <td>8.507782e+01</td>\n",
              "    </tr>\n",
              "    <tr>\n",
              "      <th>75%</th>\n",
              "      <td>2.575812e+02</td>\n",
              "    </tr>\n",
              "    <tr>\n",
              "      <th>max</th>\n",
              "      <td>1.850766e+07</td>\n",
              "    </tr>\n",
              "  </tbody>\n",
              "</table>\n",
              "</div>"
            ],
            "text/plain": [
              "                  0\n",
              "count  4.169760e+07\n",
              "mean   7.355825e+02\n",
              "std    3.344502e+04\n",
              "min   -8.272226e-01\n",
              "25%    2.565220e+01\n",
              "50%    8.507782e+01\n",
              "75%    2.575812e+02\n",
              "max    1.850766e+07"
            ]
          },
          "metadata": {
            "tags": []
          },
          "execution_count": 32
        }
      ]
    },
    {
      "cell_type": "code",
      "metadata": {
        "id": "6w3PYV4ShLMV",
        "colab_type": "code",
        "outputId": "e7e617dd-540d-487f-ce45-e74ff952b62e",
        "colab": {
          "base_uri": "https://localhost:8080/",
          "height": 34
        }
      },
      "source": [
        "res.shape"
      ],
      "execution_count": 33,
      "outputs": [
        {
          "output_type": "execute_result",
          "data": {
            "text/plain": [
              "(41697600,)"
            ]
          },
          "metadata": {
            "tags": []
          },
          "execution_count": 33
        }
      ]
    },
    {
      "cell_type": "code",
      "metadata": {
        "id": "zwXPoi9lhQZ2",
        "colab_type": "code",
        "colab": {}
      },
      "source": [
        "sub = pd.read_csv(\"gdrive/My Drive/ASHRAE/sample_submission.csv\")"
      ],
      "execution_count": 0,
      "outputs": []
    },
    {
      "cell_type": "code",
      "metadata": {
        "id": "iWHhtAP_hZ0N",
        "colab_type": "code",
        "colab": {}
      },
      "source": [
        "sub[\"meter_reading\"] = res"
      ],
      "execution_count": 0,
      "outputs": []
    },
    {
      "cell_type": "code",
      "metadata": {
        "id": "9jAL0BNKhczm",
        "colab_type": "code",
        "colab": {}
      },
      "source": [
        "sub.to_csv(\"gdrive/My Drive/ASHRAE/submission2.csv\", index = False)"
      ],
      "execution_count": 0,
      "outputs": []
    }
  ]
}
